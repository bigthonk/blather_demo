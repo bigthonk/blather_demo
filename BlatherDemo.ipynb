{
  "nbformat": 4,
  "nbformat_minor": 0,
  "metadata": {
    "colab": {
      "name": "BlatherDemo.ipynb",
      "provenance": [],
      "collapsed_sections": []
    },
    "kernelspec": {
      "name": "python3",
      "display_name": "Python 3"
    },
    "language_info": {
      "name": "python"
    },
    "accelerator": "GPU"
  },
  "cells": [
    {
      "cell_type": "markdown",
      "metadata": {
        "id": "fP_BwBh1W9E6"
      },
      "source": [
        "# Blather Demo\n",
        "\n",
        "Blather is a lightweight library designed to make it easy to work with large text models to generate text.\n",
        "\n",
        "In this demo we will download a sample dataset Machievellis The Prince and use it to fine tune a model and then generate some text with it."
      ]
    },
    {
      "cell_type": "code",
      "metadata": {
        "id": "EbrPpF93O0zu"
      },
      "source": [
        "!pip install blather"
      ],
      "execution_count": null,
      "outputs": []
    },
    {
      "cell_type": "code",
      "metadata": {
        "id": "oUVr7hGXO8-b"
      },
      "source": [
        "from blather import Blather\n",
        "import requests\n",
        "blather = Blather()"
      ],
      "execution_count": null,
      "outputs": []
    },
    {
      "cell_type": "code",
      "metadata": {
        "id": "X4bo96dKQ7-j"
      },
      "source": [
        "!wget https://raw.githubusercontent.com/bigthonk/blather_demo/main/data/prince.txt"
      ],
      "execution_count": null,
      "outputs": []
    },
    {
      "cell_type": "code",
      "metadata": {
        "id": "QVjpi82iRRbD"
      },
      "source": [
        "with open(\"prince.txt\", \"r\") as file:\n",
        "    content = file.read().replace('\\n', '')\n",
        "sentences = list(map(str.strip, content.split(\".\")))"
      ],
      "execution_count": null,
      "outputs": []
    },
    {
      "cell_type": "code",
      "metadata": {
        "id": "FNKsMllLR7gH"
      },
      "source": [
        "sentences = sentences[170:]"
      ],
      "execution_count": null,
      "outputs": []
    },
    {
      "cell_type": "code",
      "metadata": {
        "id": "44_6fp77RSCy"
      },
      "source": [
        "blather.read(sentences)"
      ],
      "execution_count": null,
      "outputs": []
    },
    {
      "cell_type": "code",
      "metadata": {
        "id": "4Jx05wkvV_Xj"
      },
      "source": [
        "blather.write(\"A leader must always\")"
      ],
      "execution_count": null,
      "outputs": []
    },
    {
      "cell_type": "code",
      "metadata": {
        "id": "gys-huZeWquz"
      },
      "source": [
        ""
      ],
      "execution_count": null,
      "outputs": []
    },
    {
      "cell_type": "code",
      "metadata": {
        "id": "C9k7X97YW7B-"
      },
      "source": [
        ""
      ],
      "execution_count": null,
      "outputs": []
    }
  ]
}