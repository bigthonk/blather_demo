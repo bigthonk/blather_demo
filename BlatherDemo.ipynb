{
  "nbformat": 4,
  "nbformat_minor": 0,
  "metadata": {
    "colab": {
      "name": "BlatherDemo.ipynb",
      "provenance": [],
      "collapsed_sections": [],
      "toc_visible": true
    },
    "kernelspec": {
      "name": "python3",
      "display_name": "Python 3"
    },
    "language_info": {
      "name": "python"
    },
    "accelerator": "GPU"
  },
  "cells": [
    {
      "cell_type": "markdown",
      "metadata": {
        "id": "fP_BwBh1W9E6"
      },
      "source": [
        "# About the Demo\n",
        "\n",
        "blather is a lightweight library designed to make it easy to work with large text models to generate text.\n",
        "\n",
        "In this demo we will download a sample dataset Machievellis The Prince and use it to fine tune a model and then generate some text with it.\n",
        "\n",
        "blather is most effiently trained using a GPU. You can make sure that Colab is running your notebook on a GPU machine by selecting\n",
        "\n",
        "Runtime > Change runtime type"
      ]
    },
    {
      "cell_type": "markdown",
      "metadata": {
        "id": "SyNfnU0JDvKb"
      },
      "source": [
        "# Install blather"
      ]
    },
    {
      "cell_type": "code",
      "metadata": {
        "id": "EbrPpF93O0zu"
      },
      "source": [
        "!pip install blather"
      ],
      "execution_count": null,
      "outputs": []
    },
    {
      "cell_type": "markdown",
      "metadata": {
        "id": "gGwSxfYWCXq0"
      },
      "source": [
        "#Import blather and create an instance"
      ]
    },
    {
      "cell_type": "code",
      "metadata": {
        "id": "oUVr7hGXO8-b"
      },
      "source": [
        "from blather import Blather\n",
        "blather = Blather()"
      ],
      "execution_count": null,
      "outputs": []
    },
    {
      "cell_type": "markdown",
      "metadata": {
        "id": "V-8uBL3xCiuG"
      },
      "source": [
        "# Grab some data to fine tune our model"
      ]
    },
    {
      "cell_type": "code",
      "metadata": {
        "id": "X4bo96dKQ7-j"
      },
      "source": [
        "!wget https://raw.githubusercontent.com/bigthonk/blather_demo/main/data/prince.txt"
      ],
      "execution_count": null,
      "outputs": []
    },
    {
      "cell_type": "markdown",
      "metadata": {
        "id": "nCsYRTcuCsmg"
      },
      "source": [
        "# Fine Tune Our Model\n",
        "\n",
        "blather can be trained by giving it a link to a text file, or by passing it a sequence of string training examples in this case we use sentences.  "
      ]
    },
    {
      "cell_type": "code",
      "metadata": {
        "id": "44_6fp77RSCy"
      },
      "source": [
        "blather.read(\"prince.txt\")"
      ],
      "execution_count": null,
      "outputs": []
    },
    {
      "cell_type": "markdown",
      "metadata": {
        "id": "eGql1Lz1D0Vc"
      },
      "source": [
        "# Write some output"
      ]
    },
    {
      "cell_type": "code",
      "metadata": {
        "id": "4Jx05wkvV_Xj"
      },
      "source": [
        "blather.write(\"A leader must always\")"
      ],
      "execution_count": null,
      "outputs": []
    },
    {
      "cell_type": "code",
      "metadata": {
        "id": "gys-huZeWquz"
      },
      "source": [
        ""
      ],
      "execution_count": null,
      "outputs": []
    },
    {
      "cell_type": "code",
      "metadata": {
        "id": "C9k7X97YW7B-"
      },
      "source": [
        ""
      ],
      "execution_count": null,
      "outputs": []
    }
  ]
}